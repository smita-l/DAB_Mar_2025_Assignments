{
 "cells": [
  {
   "cell_type": "code",
   "execution_count": null,
   "id": "5efabd26-c3eb-4bca-a0bc-0597bcec8ebb",
   "metadata": {},
   "outputs": [],
   "source": [
    "#Task 1: Basic Functions\n",
    "def Hello_World():\n",
    "    print(\"Hello World\")"
   ]
  },
  {
   "cell_type": "code",
   "execution_count": null,
   "id": "b18ffcdc-c41d-4402-aa6b-0e7ea8b5f963",
   "metadata": {},
   "outputs": [],
   "source": [
    "# Call function - \n",
    "Hello_World()"
   ]
  },
  {
   "cell_type": "code",
   "execution_count": null,
   "id": "bf2c7564-f0f9-42af-ab04-80588f386137",
   "metadata": {},
   "outputs": [],
   "source": [
    "#Task 2: Function with a Parameter\n",
    "def greet(name):\n",
    "    print(\"Hello, \" + name + \"!\")"
   ]
  },
  {
   "cell_type": "code",
   "execution_count": null,
   "id": "311d6402-741c-46f5-88ab-99820ada202f",
   "metadata": {},
   "outputs": [],
   "source": [
    "#Call function\n",
    "greet(\"Rose\")"
   ]
  },
  {
   "cell_type": "code",
   "execution_count": null,
   "id": "d6cbb049-db16-49eb-b54b-e8c77a2fec18",
   "metadata": {},
   "outputs": [],
   "source": [
    "person =\"Sam\"\n",
    "greet(person)"
   ]
  },
  {
   "cell_type": "code",
   "execution_count": null,
   "id": "71f41901-8621-4fa4-b006-c0dfe6832d0e",
   "metadata": {},
   "outputs": [],
   "source": [
    "# Function with multiple parameters\n",
    "def greet_multiple(name1 , name2 = \"Guest\"):\n",
    "    print(\"Hello, \" + name1 + \" and \" + name2)\n"
   ]
  },
  {
   "cell_type": "code",
   "execution_count": null,
   "id": "6a93379c-08bc-4d1a-a151-e8a5686f99b7",
   "metadata": {},
   "outputs": [],
   "source": [
    "greet_multiple('Alice','Bob')"
   ]
  },
  {
   "cell_type": "code",
   "execution_count": null,
   "id": "f391180c-877b-4c77-902c-0aef61e3cf2a",
   "metadata": {},
   "outputs": [],
   "source": [
    "# default parameter\n",
    "def greet_default(name = 'Guest'):\n",
    "    print(\"Hello, \" + name + \"!\")\n"
   ]
  },
  {
   "cell_type": "code",
   "execution_count": null,
   "id": "fb8251c4-7f5e-4b31-a4f6-0b28f88ff8c3",
   "metadata": {},
   "outputs": [],
   "source": [
    "greet_default()"
   ]
  },
  {
   "cell_type": "code",
   "execution_count": null,
   "id": "2cdab068-1f1e-44ac-8119-7f3341ed9744",
   "metadata": {},
   "outputs": [],
   "source": [
    "#Task 3 Function with multiple parameters - Calculate Area\n",
    "# Write a function named calculate_area that calculates the area of a rectangle.\n",
    "#It should take two parameters: length and width.\n",
    "#Return the calculated area.\n",
    "\n",
    "def calculate_area (length , width):\n",
    "    area = (length * width )\n",
    "    return area\n",
    "    "
   ]
  },
  {
   "cell_type": "code",
   "execution_count": null,
   "id": "bf36b3ad-ab3d-4e38-b756-66ea079bb2bd",
   "metadata": {},
   "outputs": [],
   "source": [
    "#print(\"area is : \")\n",
    "area_result = calculate_area(10,5)\n",
    "print(\"area is : \", area_result)\n"
   ]
  },
  {
   "cell_type": "code",
   "execution_count": null,
   "id": "15f38feb-9729-4608-8464-40daec21d77e",
   "metadata": {},
   "outputs": [],
   "source": [
    "#Task 4: Function with Default Parameter Values\n",
    "#Write a function named power that calculates a number raised to a power.\n",
    "\n",
    "#Parameters:base: the number  exponent: the power (default value should be 2)\n",
    "\n",
    "def power(base , exponent =2):\n",
    "    power_result = base ** exponent\n",
    "    return power_result\n",
    "    "
   ]
  },
  {
   "cell_type": "code",
   "execution_count": null,
   "id": "e509602c-ea8a-4348-802d-8a0df71cf858",
   "metadata": {},
   "outputs": [],
   "source": [
    "x=power(4,3)\n",
    "print('4 to power 3 is ',x)\n",
    "y=power(2)\n",
    "print('2 to power 2 is ',y)"
   ]
  },
  {
   "cell_type": "code",
   "execution_count": null,
   "id": "7791f607-5282-492b-8ae6-d41c9495fb2d",
   "metadata": {},
   "outputs": [],
   "source": [
    "#Task 5: Function that Returns a Value\n",
    "#Write a function named get_full_name that combines first, middle, and last names.\n",
    "#The middle name should be optional. #Return the full name as a string\n",
    "\n",
    "def get_full_name( first , middle=\"\", last=\"\"):\n",
    "    full_name= first + \" \" + middle +\" \" + last\n",
    "    return full_name"
   ]
  },
  {
   "cell_type": "code",
   "execution_count": null,
   "id": "e48918a7-789f-4930-8c00-47c01f1761bf",
   "metadata": {},
   "outputs": [],
   "source": [
    "get_full_name ('John', 'F','Keneddy')"
   ]
  },
  {
   "cell_type": "code",
   "execution_count": null,
   "id": "42785cd9-54ae-4ea8-aa78-a3dcdaa131f0",
   "metadata": {},
   "outputs": [],
   "source": [
    "#The middle name should be optional.\n",
    "no_middle = get_full_name ('Alice' , 'Jones')\n",
    "print( \"Calling function With Optional Middlename full name is : \", no_middle)"
   ]
  },
  {
   "cell_type": "code",
   "execution_count": null,
   "id": "e1530a15-9c49-4f82-8e16-fa53632ee608",
   "metadata": {},
   "outputs": [],
   "source": [
    "#Task 6: Function Composition  #Create two functions:\n",
    "#celsius_to_fahrenheit: Converts Celsius to Fahrenheit using the formula:\n",
    "#F = C * 9/5 + 32\n",
    "def celsius_to_fahrenheit(C):\n",
    "    F = C * 9/5 + 32\n",
    "    return F\n",
    "\n",
    "#fahrenheit_to_celsius: Converts Fahrenheit to Celsius using the formula:\n",
    "#C = (F - 32) * 5/9\n",
    "\n",
    "def fahrenheit_to_celsius (F):\n",
    "    C = (F - 32) * 5/9\n",
    "    return C"
   ]
  },
  {
   "cell_type": "code",
   "execution_count": null,
   "id": "34f0bc2a-ef7d-4fc1-b123-8a171bb029f8",
   "metadata": {},
   "outputs": [],
   "source": [
    "Cel = 30\n",
    "fah = celsius_to_fahrenheit (Cel)\n",
    "print(Cel , 'To Fahrenheit is : ', fah)"
   ]
  },
  {
   "cell_type": "code",
   "execution_count": null,
   "id": "489fa7b6-2bde-468b-b1f0-0b997ddd0fb4",
   "metadata": {},
   "outputs": [],
   "source": [
    "Cel = fahrenheit_to_celsius(86)\n",
    "print(Cel)"
   ]
  },
  {
   "cell_type": "code",
   "execution_count": null,
   "id": "c1ac0454-02de-4ac7-863d-4a00e3f8d109",
   "metadata": {},
   "outputs": [],
   "source": [
    "#Task 7: Combining Functions and Conditionals\n",
    "#Write a function named analyze_temperature that:\n",
    "\n",
    "#Takes a temperature value and a unit ('C' or 'F').\n",
    "#Converts the temperature to the other unit.\n",
    "#Returns a description of the weather:\n",
    "#Below 0°C: \"freezing\"\n",
    "#0-15°C: \"cold\"\n",
    "#15-25°C: \"moderate\"\n",
    "#Above 25°C: \"hot\"\n",
    "\n",
    "def analyze_temperature (value , unit):\n",
    "    if unit.upper() == 'F':\n",
    "        value_1 = fahrenheit_to_celsius(value)\n",
    "        print(\"Temp in F is : \", value_1)\n",
    "\n",
    "        if value_1 < 0:\n",
    "            return \"freezing\"\n",
    "            #print(\"freezing\") -- not needed\n",
    "        elif value_1 >= 0 and value <=15:\n",
    "            return \"cold\"\n",
    "            # print(\"cold\")\n",
    "        elif value_1 >= 15 and value <=25:\n",
    "            return \"moderate\"\n",
    "            #print(\"moderate\")\n",
    "        else:\n",
    "            return \"hot\"\n",
    "            #print(\"hot\")\n",
    "\n",
    "        "
   ]
  },
  {
   "cell_type": "code",
   "execution_count": null,
   "id": "d76ab056-3982-478d-8673-879be43dfb78",
   "metadata": {},
   "outputs": [],
   "source": [
    "# Calling function and print weather status\n",
    "\n",
    "weather = analyze_temperature (120,'f')\n",
    "print(weather)"
   ]
  },
  {
   "cell_type": "code",
   "execution_count": null,
   "id": "1338911d-4012-46db-996e-9a963342b2b3",
   "metadata": {},
   "outputs": [],
   "source": [
    "# Task 8: Function with Variable Arguments -- Write a function named calculate_average that:\n",
    "#Accepts any number of numeric arguments.\n",
    "#Returns the average of all numbers provided.\n",
    "\n",
    "def calculate_average (*numbers):\n",
    "    return sum(numbers)/len(numbers) if numbers else 0\n",
    "    "
   ]
  },
  {
   "cell_type": "code",
   "execution_count": null,
   "id": "b71fa55a-7ddc-4764-a281-ebf6ac751292",
   "metadata": {},
   "outputs": [],
   "source": [
    "avg = calculate_average (10,20,30)\n",
    "print('Average is : ',avg)"
   ]
  },
  {
   "cell_type": "code",
   "execution_count": null,
   "id": "a2d20f47-54ad-490a-ba94-1729e850674c",
   "metadata": {},
   "outputs": [],
   "source": [
    "avg = calculate_average ()\n",
    "print('Average is : ',avg)"
   ]
  },
  {
   "cell_type": "code",
   "execution_count": null,
   "id": "3e502cba-223a-44ed-8049-08fd7e47fc14",
   "metadata": {},
   "outputs": [],
   "source": [
    "avg = calculate_average (5)\n",
    "print('Average is : ',avg)"
   ]
  },
  {
   "cell_type": "code",
   "execution_count": null,
   "id": "d422531e-3714-4bce-ac0c-5d328ab35e51",
   "metadata": {},
   "outputs": [],
   "source": [
    "# Task 9: Advanced Challenge - Student Grade Function -- Write a function named calculate_final_grade that:\n",
    "#Takes a student's name and any number of assignment scores. -- Calculates the average score. -- Determines the letter grade:\n",
    "#90+: A\n",
    "#80-89: B\n",
    "#70-79: C\n",
    "#60-69: D\n",
    "#Below 60: F\n",
    "#Returns a formatted string: Example: \"Alice's final grade is 85 (B).\"\n",
    "\n",
    "def calculate_final_grade (st_name,*score):\n",
    "    if not score:\n",
    "        return f\"{st_name} has no score available\"\n",
    "\n",
    "    avg_score = sum(score)/len(score)\n",
    "\n",
    "    if avg_score >= 90:\n",
    "        grade = \"A\"\n",
    "    elif avg_score >= 80:\n",
    "        grade = \"B\"\n",
    "    elif avg_score >= 70:\n",
    "        grade = \"C\"\n",
    "    elif avg_score >= 60:\n",
    "        grade = \"D\"\n",
    "    else:\n",
    "        grade = \"F\"\n",
    "\n",
    "    return f\"{st_name}'s final grade is {avg_score:.1f} ({grade}).\"\n",
    "\n",
    "    "
   ]
  },
  {
   "cell_type": "code",
   "execution_count": null,
   "id": "31f4967a-b7d8-465d-af1b-d03ce143b077",
   "metadata": {},
   "outputs": [],
   "source": [
    "gr= calculate_final_grade (\"John\",60,70,80,90)\n",
    "print(gr)"
   ]
  },
  {
   "cell_type": "code",
   "execution_count": null,
   "id": "b0fcfb98-ca30-47e1-a5d1-3f54e0d478f8",
   "metadata": {},
   "outputs": [],
   "source": [
    "gr= calculate_final_grade (\"John\")\n",
    "print(gr)"
   ]
  },
  {
   "cell_type": "code",
   "execution_count": null,
   "id": "8e9a69c0-8e7c-41b0-be65-5cad9ce7c9e9",
   "metadata": {},
   "outputs": [],
   "source": []
  }
 ],
 "metadata": {
  "kernelspec": {
   "display_name": "Python 3 (ipykernel)",
   "language": "python",
   "name": "python3"
  },
  "language_info": {
   "codemirror_mode": {
    "name": "ipython",
    "version": 3
   },
   "file_extension": ".py",
   "mimetype": "text/x-python",
   "name": "python",
   "nbconvert_exporter": "python",
   "pygments_lexer": "ipython3",
   "version": "3.13.3"
  }
 },
 "nbformat": 4,
 "nbformat_minor": 5
}
