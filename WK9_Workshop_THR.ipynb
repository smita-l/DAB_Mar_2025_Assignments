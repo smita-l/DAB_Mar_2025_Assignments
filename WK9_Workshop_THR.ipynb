{
 "cells": [
  {
   "cell_type": "code",
   "execution_count": null,
   "id": "98335d03-d9d5-4c41-a666-7f9b0d2e1fc2",
   "metadata": {},
   "outputs": [],
   "source": [
    "import pandas as pd\n",
    "# 1. Load all three CSV files\n",
    "\n",
    "customers_df = pd.read_csv(\"customers_wk9_thurs.csv\")\n",
    "products_df = pd.read_csv(\"products_wk9_thurs.csv\")\n",
    "sales_df = pd.read_csv(\"sales_wk9_thurs.csv\")"
   ]
  },
  {
   "cell_type": "code",
   "execution_count": null,
   "id": "5818cbab-0d87-4be4-a57d-94c993206ab1",
   "metadata": {},
   "outputs": [],
   "source": [
    "customers_df.info()\n",
    "products_df.info()\n",
    "sales_df.info()"
   ]
  },
  {
   "cell_type": "code",
   "execution_count": null,
   "id": "6fcfce81-fbf3-47b4-bd5a-ed61d1118936",
   "metadata": {},
   "outputs": [],
   "source": [
    "# 1.  convert date columns to proper DateTime format using pd.to_datetime()\n",
    "\n",
    "customers_df['registration_date'] = pd.to_datetime(customers_df['registration_date'])\n",
    "products_df['launch_date'] = pd.to_datetime(products_df['launch_date'])\n",
    "sales_df['transaction_date'] = pd.to_datetime(sales_df['transaction_date'])"
   ]
  },
  {
   "cell_type": "code",
   "execution_count": null,
   "id": "a4166cb0-c748-4ae6-9b94-f092ad2ff811",
   "metadata": {},
   "outputs": [],
   "source": [
    "customers_df.info()\n",
    "products_df.info()\n",
    "sales_df.info()\n"
   ]
  },
  {
   "cell_type": "code",
   "execution_count": null,
   "id": "32d480ec-601f-4e1a-b126-3e132962f6f1",
   "metadata": {},
   "outputs": [],
   "source": [
    "sales_df.head()\n"
   ]
  },
  {
   "cell_type": "code",
   "execution_count": null,
   "id": "109adc8d-c8ce-4bed-acee-c565e706981c",
   "metadata": {},
   "outputs": [],
   "source": [
    "#1.2 Extract useful components from the sales transaction dates: year, month, and day of week\n",
    "\n",
    "sales_df['sales_year'] = pd.to_datetime(sales_df['transaction_date']).dt.year\n",
    "sales_df['sales_month'] = pd.to_datetime(sales_df['transaction_date']).dt.month\n",
    "sales_df['sales_day_of_week'] = pd.to_datetime(sales_df['transaction_date']).dt.dayofweek\n",
    "sales_df['sales_day_name'] = pd.to_datetime(sales_df['transaction_date']).dt.day_name()\n",
    "sales_df.head()"
   ]
  },
  {
   "cell_type": "code",
   "execution_count": null,
   "id": "d4127b79-bed0-4e9b-8802-1861e3f27628",
   "metadata": {},
   "outputs": [],
   "source": [
    "# 1.3 Display the date range covered by your sales data (earliest and latest dates)\n",
    "\n",
    "sales_earliest_min = sales_df['transaction_date'].min()  \n",
    "sales_latest_max = sales_df['transaction_date'].max()\n",
    "\n",
    "dt_range = sales_latest_max - sales_earliest_min\n",
    "print(dt_range)"
   ]
  },
  {
   "cell_type": "code",
   "execution_count": null,
   "id": "69b2e4ad-ac57-4570-b2c2-0bb33c74add5",
   "metadata": {},
   "outputs": [],
   "source": [
    "print(sales_df['transaction_date'].min())"
   ]
  },
  {
   "cell_type": "code",
   "execution_count": null,
   "id": "73f33fe4-d217-4a99-8eb2-20867c8f0350",
   "metadata": {},
   "outputs": [],
   "source": [
    "print(sales_df['transaction_date'].max())"
   ]
  },
  {
   "cell_type": "code",
   "execution_count": null,
   "id": "93aca2b9-8f2f-4fd6-bb46-5e3e6228c5e5",
   "metadata": {},
   "outputs": [],
   "source": [
    "dt_range = sales_latest_max - sales_earliest_min\n",
    "print(dt_range)"
   ]
  },
  {
   "cell_type": "code",
   "execution_count": null,
   "id": "aba63111-431c-4a25-a022-3cdb5073e443",
   "metadata": {},
   "outputs": [],
   "source": [
    "#1.2.1 Find the busiest day of the week for sales (by counting transactions)\n",
    "sales_df['sales_day_of_week'].value_counts()\n",
    "sales_df['sales_day_of_week'].value_counts().head(1)"
   ]
  },
  {
   "cell_type": "code",
   "execution_count": null,
   "id": "d2231818-d763-4d5b-9143-75df987f8405",
   "metadata": {},
   "outputs": [],
   "source": [
    "# 1.2.2 Determine which month had the most transactions\n",
    "sales_df['sales_month'].value_counts().head(1)\n",
    "\n"
   ]
  },
  {
   "cell_type": "code",
   "execution_count": null,
   "id": "df22ff95-de72-428c-a7f8-7e28c9864492",
   "metadata": {},
   "outputs": [],
   "source": [
    "#1.2.3 Count how many sales happened in each year\n",
    "sales_df['sales_year'].value_counts()\n"
   ]
  },
  {
   "cell_type": "code",
   "execution_count": null,
   "id": "5263a651-13d0-4ce2-ba55-958e6f45782b",
   "metadata": {},
   "outputs": [],
   "source": [
    "#1.2.3 Count how many sales happened in each year\n",
    "sales_df['sales_year'].value_counts().sort_index()"
   ]
  },
  {
   "cell_type": "code",
   "execution_count": null,
   "id": "c899aa1d-df38-4d8a-98fb-3a3444b3a068",
   "metadata": {},
   "outputs": [],
   "source": [
    "# 2.1.1 Group products by category and calculate the average price for each category\n",
    "products_df.groupby('category')['price'].mean()\n",
    "    \n",
    "\n",
    "\n",
    "\n"
   ]
  },
  {
   "cell_type": "code",
   "execution_count": null,
   "id": "391b97ac-4f80-4902-81b9-db6133dc3b59",
   "metadata": {},
   "outputs": [],
   "source": [
    "#2.1.2 Find the most expensive product in each category\n",
    "# NA - deleted Qs\n",
    "#products_df.groupby('category')['price'].max() # - max priced category item returned\n",
    "# how to get - products_df['product_name']\n"
   ]
  },
  {
   "cell_type": "code",
   "execution_count": null,
   "id": "1fc4ab37-808d-402b-9985-7e67b5a4d36c",
   "metadata": {},
   "outputs": [],
   "source": [
    "#2.1.3 Count how many products are in each category\n",
    "products_df['category'].value_counts()"
   ]
  },
  {
   "cell_type": "code",
   "execution_count": null,
   "id": "2e376220-eabd-49ee-bde6-976672e5d13e",
   "metadata": {},
   "outputs": [],
   "source": [
    "#2.2.1 Group customers by state and find the average age in each state\n",
    "\n",
    "customers_df.groupby('state')['age'].mean().round(2)\n",
    "\n"
   ]
  },
  {
   "cell_type": "code",
   "execution_count": null,
   "id": "266b59d3-624e-4d1e-aced-48f734223f92",
   "metadata": {},
   "outputs": [],
   "source": [
    "#2.2.2 Calculate total spending per customer (sum up all their purchases)\n",
    "\n",
    "sales_df.groupby('customer_id')['total_amount'].sum()"
   ]
  },
  {
   "cell_type": "code",
   "execution_count": null,
   "id": "a209dc15-ee13-4c1d-9f78-227243fc46d1",
   "metadata": {},
   "outputs": [],
   "source": [
    "#2.2.3 Find customers who have made the most purchases\n",
    "\n",
    "sales_df.groupby('customer_id').size().sort_values(ascending=False)"
   ]
  },
  {
   "cell_type": "code",
   "execution_count": null,
   "id": "0322ffbe-2911-48c0-9f2b-83fc298e499a",
   "metadata": {},
   "outputs": [],
   "source": [
    "#2.3.1 Calculate total sales revenue by month\n",
    "\n",
    "sales_df.groupby('sales_month')['total_amount'].sum()"
   ]
  },
  {
   "cell_type": "code",
   "execution_count": null,
   "id": "7e7bbd08-43ae-4443-bf40-81e96d4730f0",
   "metadata": {},
   "outputs": [],
   "source": [
    "#2.3.2 Find the average transaction amount by day of the week\n",
    "sales_df.groupby('sales_day_of_week')['total_amount'].mean().round(2)"
   ]
  },
  {
   "cell_type": "code",
   "execution_count": null,
   "id": "165fb513-8ba0-407e-8a31-a3e3214f33e1",
   "metadata": {},
   "outputs": [],
   "source": [
    "#2.3.3 Determine which product category generates the most total revenue\n",
    "\n",
    "sales_df.groupby('product_id')['total_amount'].sum().sort_values(ascending=False).head(1)"
   ]
  },
  {
   "cell_type": "code",
   "execution_count": null,
   "id": "cdbfb20f-f9c3-4603-80bf-967c04647ae6",
   "metadata": {},
   "outputs": [],
   "source": [
    "#3.1.1 Find which state has the most customers\n",
    "customers_df.groupby('state')['customer_id'].count().head(1)"
   ]
  },
  {
   "cell_type": "code",
   "execution_count": null,
   "id": "0491b4ec-1b05-4ec1-811d-7e1745f3557a",
   "metadata": {},
   "outputs": [],
   "source": [
    "#3.1.1 Find which state has the most customers\n",
    "customers_df.groupby('state')['customer_id'].count().sort_values(ascending=False)\n",
    "\n",
    "\n"
   ]
  },
  {
   "cell_type": "code",
   "execution_count": null,
   "id": "de53abb3-ed69-4d11-8fe1-6ec23048ed0c",
   "metadata": {},
   "outputs": [],
   "source": [
    "#3.1.2 Identify the top 5 customers by total spending\n",
    "# purchases count\n",
    "sales_df.groupby('customer_id').size().sort_values(ascending=False).head(5)\n"
   ]
  },
  {
   "cell_type": "code",
   "execution_count": null,
   "id": "dcfee62a-48b7-4c9c-bbb5-12ac3c51e7d1",
   "metadata": {},
   "outputs": [],
   "source": [
    "# 3.1.2 Identify the top 5 customers by total spending --customers with sum of total_amount spend sorted\n",
    "\n",
    "sales_df.groupby('customer_id')['total_amount'].sum().sort_values(ascending=False).head(5)"
   ]
  },
  {
   "cell_type": "code",
   "execution_count": null,
   "id": "1d0fed03-b70a-4018-95ac-b1d8c0dfb59d",
   "metadata": {},
   "outputs": [],
   "source": [
    "#3.1.3 Determine which day of the week has the highest average transaction value\n",
    "sales_df.groupby('sales_day_of_week')['total_amount'].mean().sort_values(ascending=False)"
   ]
  },
  {
   "cell_type": "code",
   "execution_count": null,
   "id": "41beba53-dedc-4760-a67b-96942003de06",
   "metadata": {},
   "outputs": [],
   "source": [
    "#3.1.3 Determine which day of the week has the highest average transaction value\n",
    "# added head(1) to get the highest only\n",
    "\n",
    "sales_df.groupby('sales_day_of_week')['total_amount'].mean().sort_values(ascending=False).head(1)\n"
   ]
  }
 ],
 "metadata": {
  "kernelspec": {
   "display_name": "Python 3 (ipykernel)",
   "language": "python",
   "name": "python3"
  },
  "language_info": {
   "codemirror_mode": {
    "name": "ipython",
    "version": 3
   },
   "file_extension": ".py",
   "mimetype": "text/x-python",
   "name": "python",
   "nbconvert_exporter": "python",
   "pygments_lexer": "ipython3",
   "version": "3.13.3"
  }
 },
 "nbformat": 4,
 "nbformat_minor": 5
}
