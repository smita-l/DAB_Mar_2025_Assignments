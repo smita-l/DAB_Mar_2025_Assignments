{
 "cells": [
  {
   "cell_type": "code",
   "execution_count": null,
   "id": "3f8c8363-3c2b-4e26-b535-0618e27cf6d4",
   "metadata": {},
   "outputs": [],
   "source": [
    "import pandas as pd"
   ]
  },
  {
   "cell_type": "code",
   "execution_count": null,
   "id": "0d9b2211-15b6-40e6-a64e-1c28eea8d227",
   "metadata": {},
   "outputs": [],
   "source": [
    "#1.1 Loading Data:\n",
    "customers_df = pd.read_csv(\"wk8-customers.csv\")\n",
    "inventory_df = pd.read_csv(\"wk8-inventory.csv\")\n",
    "sales_df = pd.read_csv(\"wk8-sales.csv\")\n",
    "stores_df = pd.read_csv(\"wk8-stores.csv\")\n",
    "products_df = pd.read_csv(\"wk8-products.csv\")"
   ]
  },
  {
   "cell_type": "code",
   "execution_count": null,
   "id": "6b70e38d-6793-4e32-9b68-c8d15eb50468",
   "metadata": {},
   "outputs": [],
   "source": [
    "customers_df.head()"
   ]
  },
  {
   "cell_type": "code",
   "execution_count": null,
   "id": "fe16e491-85a1-445f-81ec-23a34fdc5153",
   "metadata": {},
   "outputs": [],
   "source": [
    "inventory_df.head()"
   ]
  },
  {
   "cell_type": "code",
   "execution_count": null,
   "id": "9c0188f8-245b-4d3b-a975-97e674459b21",
   "metadata": {},
   "outputs": [],
   "source": [
    "sales_df.head()"
   ]
  },
  {
   "cell_type": "code",
   "execution_count": null,
   "id": "7d60adfc-fd5d-44e9-85f5-aa22561aaa21",
   "metadata": {},
   "outputs": [],
   "source": [
    "stores_df.head()"
   ]
  },
  {
   "cell_type": "code",
   "execution_count": null,
   "id": "08981d8e-7962-4acb-a236-8760fbdd8d62",
   "metadata": {},
   "outputs": [],
   "source": [
    "products_df.head()"
   ]
  },
  {
   "cell_type": "code",
   "execution_count": null,
   "id": "fe1e298e-de6b-469a-b1c9-bb5c255d8222",
   "metadata": {},
   "outputs": [],
   "source": [
    "#1.2.3 Exploratory Analysis - datatypes of all columns\n",
    "products_df.info()"
   ]
  },
  {
   "cell_type": "code",
   "execution_count": null,
   "id": "1d42c83d-4720-40e0-8d5d-ae54ee91dd7e",
   "metadata": {},
   "outputs": [],
   "source": [
    "customers_df.info()"
   ]
  },
  {
   "cell_type": "code",
   "execution_count": null,
   "id": "88494683-5d06-4f74-aab5-2deb7f94afdb",
   "metadata": {},
   "outputs": [],
   "source": [
    "inventory_df.info()"
   ]
  },
  {
   "cell_type": "code",
   "execution_count": null,
   "id": "461f0f26-3802-4f51-8b8c-18b7f33b9828",
   "metadata": {},
   "outputs": [],
   "source": [
    "sales_df.info()"
   ]
  },
  {
   "cell_type": "code",
   "execution_count": null,
   "id": "41889227-68e4-4e34-ae42-025274eb76d7",
   "metadata": {},
   "outputs": [],
   "source": [
    "stores_df.info()"
   ]
  },
  {
   "cell_type": "code",
   "execution_count": null,
   "id": "37a5eeae-99a5-49fe-9e01-49346725eb3a",
   "metadata": {},
   "outputs": [],
   "source": [
    "# 1.2.1 Exploratory Analysis -Summary statistics\n",
    "products_df.describe()"
   ]
  },
  {
   "cell_type": "code",
   "execution_count": null,
   "id": "3a99b5c0-211e-401a-b4bc-c1134ee078db",
   "metadata": {},
   "outputs": [],
   "source": [
    "products_df.describe()"
   ]
  },
  {
   "cell_type": "code",
   "execution_count": null,
   "id": "11264810-2d33-41d2-9587-cae2c3866216",
   "metadata": {},
   "outputs": [],
   "source": [
    "customers_df.describe()"
   ]
  },
  {
   "cell_type": "code",
   "execution_count": null,
   "id": "3696e75a-e032-4229-863e-0df383cb000b",
   "metadata": {},
   "outputs": [],
   "source": [
    "inventory_df.describe()"
   ]
  },
  {
   "cell_type": "code",
   "execution_count": null,
   "id": "920ccb8e-3963-47ac-81b2-13142d381dd8",
   "metadata": {},
   "outputs": [],
   "source": [
    "sales_df.describe()"
   ]
  },
  {
   "cell_type": "code",
   "execution_count": null,
   "id": "d87a8e98-f66f-4cbe-be4b-11c4fd4f799e",
   "metadata": {},
   "outputs": [],
   "source": [
    "stores_df.describe()"
   ]
  },
  {
   "cell_type": "code",
   "execution_count": null,
   "id": "abb1f63a-6cd3-47e4-a8b8-8244d888af25",
   "metadata": {},
   "outputs": [],
   "source": [
    "#1.2.2 Exploratory Analysis - Check missing values\n",
    "products_df.isnull().sum()"
   ]
  },
  {
   "cell_type": "code",
   "execution_count": null,
   "id": "ee18a9f6-b37d-4600-b18a-38d49ee6a431",
   "metadata": {},
   "outputs": [],
   "source": [
    "customers_df.isnull().sum()"
   ]
  },
  {
   "cell_type": "code",
   "execution_count": null,
   "id": "ac761119-c2f9-45df-bfec-14aafe049b7d",
   "metadata": {},
   "outputs": [],
   "source": [
    "inventory_df.isnull().sum()"
   ]
  },
  {
   "cell_type": "code",
   "execution_count": null,
   "id": "990d508e-44db-4bf8-9614-a3176ecef06d",
   "metadata": {},
   "outputs": [],
   "source": [
    "sales_df.isnull().sum()"
   ]
  },
  {
   "cell_type": "code",
   "execution_count": null,
   "id": "80f44052-ca13-4a42-ac87-43fe0c784517",
   "metadata": {},
   "outputs": [],
   "source": [
    "stores_df.isnull().sum()"
   ]
  },
  {
   "cell_type": "code",
   "execution_count": null,
   "id": "dd400e9b-321f-456f-b0b2-7791874b74fa",
   "metadata": {},
   "outputs": [],
   "source": [
    "#1.3.1 unique products\n",
    "products_df['product_id'].nunique()"
   ]
  },
  {
   "cell_type": "code",
   "execution_count": null,
   "id": "301bc504-0370-4ba2-bc78-f9ba3b8c2fe9",
   "metadata": {},
   "outputs": [],
   "source": [
    "#1.3.2 Sort- top 5 - sort by product price and use head to find top 5\n",
    "top_5_expensive = products_df.sort_values(by=\"price\", ascending=False).head(5)\n",
    "top_5_expensive"
   ]
  },
  {
   "cell_type": "code",
   "execution_count": null,
   "id": "edeaffb1-2ced-425a-82b1-e4016c8f4dd6",
   "metadata": {},
   "outputs": [],
   "source": [
    "#1.3.3 - top 1 - largest floor space\n",
    "largest_space = stores_df.sort_values(by='size_sqft',ascending=False).head(1)\n",
    "largest_space"
   ]
  },
  {
   "cell_type": "code",
   "execution_count": null,
   "id": "e109546d-73fc-4323-bb42-3e0cb6df1388",
   "metadata": {},
   "outputs": [],
   "source": [
    "#1.3.4 get count of customers by state\n",
    "state_distribution = customers_df['state'].value_counts()\n",
    "state_distribution"
   ]
  },
  {
   "cell_type": "code",
   "execution_count": null,
   "id": "de1af4ee-8fe1-49b3-af44-f35fa9b5b5a9",
   "metadata": {},
   "outputs": [],
   "source": [
    "#2.1.1 Missing values\n",
    "products_df.isnull().sum()"
   ]
  },
  {
   "cell_type": "code",
   "execution_count": null,
   "id": "0b16b481-984b-40bb-a1cc-3223dc3b42d6",
   "metadata": {},
   "outputs": [],
   "source": [
    "#2.1.2 # replaced weight with mean()\n",
    "products_df['weight'] = products_df['weight'].fillna(products_df['weight'].mean())\n",
    "products_df.info()"
   ]
  },
  {
   "cell_type": "code",
   "execution_count": null,
   "id": "633a9711-09b4-4833-a400-042c41d03851",
   "metadata": {},
   "outputs": [],
   "source": [
    "# replacing date and size_sqft in stores_df\n",
    "stores_df['opening_date'] = stores_df['opening_date'].ffill()"
   ]
  },
  {
   "cell_type": "code",
   "execution_count": null,
   "id": "d9714a7c-57e0-4bac-be98-f596e0c6e9f9",
   "metadata": {},
   "outputs": [],
   "source": [
    "stores_df['size_sqft'] = stores_df['size_sqft'].fillna(stores_df['size_sqft'].mean())\n",
    "stores_df.info()"
   ]
  },
  {
   "cell_type": "code",
   "execution_count": null,
   "id": "21826ed7-879b-4e21-8e5e-0d31c7ba8264",
   "metadata": {},
   "outputs": [],
   "source": [
    "# sales -- store_id ; date ; payment_method missing values\n",
    "\n",
    "sales_df['store_id'] = sales_df['store_id'].fillna(sales_df['store_id'].mean())\n",
    "sales_df['date'] = sales_df['date'].bfill()\n",
    "sales_df['payment_method']= sales_df['payment_method'].fillna(sales_df['payment_method'].mode()[0])\n",
    "sales_df.info()"
   ]
  },
  {
   "cell_type": "code",
   "execution_count": null,
   "id": "5cef66f3-78a6-47c8-8e16-4326f4071663",
   "metadata": {},
   "outputs": [],
   "source": [
    "# inventory -- last_restock_date    9 ; reorder_level        6 missing values\n",
    "\n",
    "inventory_df['last_restock_date'] = inventory_df['last_restock_date'].ffill()\n",
    "inventory_df['reorder_level'] = inventory_df['reorder_level'].fillna(inventory_df['reorder_level'].mean())\n",
    "inventory_df.info()"
   ]
  },
  {
   "cell_type": "code",
   "execution_count": null,
   "id": "61342bb1-ac6c-4cd9-872f-d17b8604e518",
   "metadata": {},
   "outputs": [],
   "source": [
    "#  customers -- zip_code             1;registration_date    3;email                3;phone                2 missing\n",
    "\n",
    "customers_df.info()\n",
    "\n",
    "customers_df['zip_code'] = customers_df['zip_code'].fillna(customers_df['zip_code'].mode()[0])\n",
    "#print(customers_df['zip_code'].mode()[0])\n",
    "customers_df['registration_date'] = customers_df['registration_date'].fillna(customers_df['registration_date'].mode()[0])\n",
    "customers_df['email'] = customers_df['email'].fillna(customers_df['email'].mode()[0])\n",
    "customers_df['phone'] = customers_df['phone'].fillna(customers_df['phone'].mode()[0])\n",
    "\n",
    "customers_df.info()"
   ]
  },
  {
   "cell_type": "code",
   "execution_count": null,
   "id": "255ab3a5-a057-41f4-aa83-6ae45a8614ea",
   "metadata": {},
   "outputs": [],
   "source": [
    "print(customers_df['registration_date'].mode()[0])"
   ]
  },
  {
   "cell_type": "code",
   "execution_count": null,
   "id": "1aeed7e1-4e9e-4dbd-8eea-5fb0b63d8382",
   "metadata": {},
   "outputs": [],
   "source": [
    "#2.2. Check for and remove any duplicate entries in the customers and products dataframes\n",
    "customers_df['customer_id'].duplicated().sum()"
   ]
  },
  {
   "cell_type": "code",
   "execution_count": null,
   "id": "74452a26-40ad-46ea-98f2-7ffd867ed1d3",
   "metadata": {},
   "outputs": [],
   "source": [
    "#Removing duplicates in customers\n",
    "customers_df = customers_df.drop_duplicates(subset=['customer_id'])"
   ]
  },
  {
   "cell_type": "code",
   "execution_count": null,
   "id": "24e3da5c-a341-4e54-9c30-9fc998d3b850",
   "metadata": {},
   "outputs": [],
   "source": [
    "#Checking duplicates after removal\n",
    "customers_df['customer_id'].duplicated().sum()"
   ]
  },
  {
   "cell_type": "code",
   "execution_count": null,
   "id": "ba49c5e3-ff44-4f73-9a12-4cff4eaeda07",
   "metadata": {},
   "outputs": [],
   "source": [
    "#Checking duplicates in products\n",
    "products_df['product_id'].duplicated().sum()"
   ]
  }
 ],
 "metadata": {
  "kernelspec": {
   "display_name": "Python 3 (ipykernel)",
   "language": "python",
   "name": "python3"
  },
  "language_info": {
   "codemirror_mode": {
    "name": "ipython",
    "version": 3
   },
   "file_extension": ".py",
   "mimetype": "text/x-python",
   "name": "python",
   "nbconvert_exporter": "python",
   "pygments_lexer": "ipython3",
   "version": "3.13.3"
  }
 },
 "nbformat": 4,
 "nbformat_minor": 5
}
