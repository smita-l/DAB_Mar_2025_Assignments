{
 "cells": [
  {
   "cell_type": "code",
   "execution_count": null,
   "id": "dca5b465-b331-4f9a-943d-cd3e4535fb3d",
   "metadata": {},
   "outputs": [],
   "source": [
    "#Task 1: Basic if Statement\n",
    "#Write a function that checks if a number is positive and prints an appropriate message.\n",
    "#If the number is greater than 0, print \"The number is positive\""
   ]
  },
  {
   "cell_type": "code",
   "execution_count": null,
   "id": "10114e98-2c50-40fe-b037-6c3cf2cfe0a1",
   "metadata": {},
   "outputs": [],
   "source": [
    "number_a = 10"
   ]
  },
  {
   "cell_type": "code",
   "execution_count": null,
   "id": "cdfcbe8e-db69-4603-b748-5f2bf6a16f6d",
   "metadata": {},
   "outputs": [],
   "source": [
    "if number_a >= 0:\n",
    "    print(\"The number is positive\")\n",
    "else:\n",
    "    print(\"The number is NOT positive\")"
   ]
  },
  {
   "cell_type": "code",
   "execution_count": null,
   "id": "d053ba21-4a2a-42f9-968e-1231a1bc72dc",
   "metadata": {},
   "outputs": [],
   "source": [
    "#Write a function\n",
    "def check_positive (number_a):\n",
    "    if number_a >= 0:\n",
    "        print(\"The number is positive\")\n",
    "    else:\n",
    "        print(\"The number is NOT positive\")"
   ]
  },
  {
   "cell_type": "code",
   "execution_count": null,
   "id": "53d5d4e8-2782-4e2b-8415-df3254b8c373",
   "metadata": {},
   "outputs": [],
   "source": [
    "check_positive(5)\n"
   ]
  },
  {
   "cell_type": "code",
   "execution_count": null,
   "id": "8e04b93e-a869-4538-9dac-56400e24411c",
   "metadata": {},
   "outputs": [],
   "source": [
    "# Task 2: if-else Statement\n",
    "# Write a function that determines if a student passed or failed based on their score.\n",
    "#A score of 60 or higher is a pass; otherwise, it's a fail.\n",
    "\n",
    "def check_pass_fail(score):\n",
    "    if score >= 60:\n",
    "        result=\"Pass\"\n",
    "    else: result=\"Fail\"\n",
    "    print(\"Result is : \",result)\n",
    "    return result\n",
    "    \n"
   ]
  },
  {
   "cell_type": "code",
   "execution_count": null,
   "id": "ac0665bd-d8be-4935-a0b7-651363fab9b2",
   "metadata": {},
   "outputs": [],
   "source": [
    "check_pass_fail(70)"
   ]
  },
  {
   "cell_type": "code",
   "execution_count": null,
   "id": "d9101023-67f5-4025-babf-730f8cf6be66",
   "metadata": {},
   "outputs": [],
   "source": [
    "#Task 3: if-elif-else Statement\n",
    "#Write a function that converts a numeric grade to a letter grade:\n",
    "#90-100: A, 80-89: B, 70-79: C, 60-69: D, Below 60: F\n",
    "\n",
    "def convert_grade (numeric_score):\n",
    "    if numeric_score >= 90:\n",
    "        grade = \"A\"\n",
    "    elif numeric_score >= 80:\n",
    "        grade = \"B\"\n",
    "    elif numeric_score >= 70:\n",
    "        grade = \"C\"\n",
    "    elif numeric_score >= 60:\n",
    "        grade = \"D\"\n",
    "    else:\n",
    "        grade = \"F\"\n",
    "\n",
    "    return grade\n"
   ]
  },
  {
   "cell_type": "code",
   "execution_count": null,
   "id": "ff4e7e67-93de-46d8-8ea0-6158896f9b3b",
   "metadata": {},
   "outputs": [],
   "source": [
    "num_gr = 85\n",
    "letter_grade = convert_grade(num_gr)\n",
    "print(num_gr , \"converted to : \",letter_grade)"
   ]
  },
  {
   "cell_type": "code",
   "execution_count": null,
   "id": "6d8d059a-d6b9-49db-a538-475ede9b380d",
   "metadata": {},
   "outputs": [],
   "source": [
    "#Task 4: Nested Conditionals\n",
    "#Write a function to determine user access based on:  Login status (True or False) # Admin status (True or False)\n",
    "# Premium membership (True or False)\n",
    "\n",
    "def check_user_access (login_status, admin_status , premium_membership):\n",
    "    if not login_status:\n",
    "        print(\"Please login as user\")\n",
    "    elif admin_status:\n",
    "        print(\"You are admin\")\n",
    "    elif premium_membership:\n",
    "        print(\"You are Premium member\")\n",
    "    else:\n",
    "        print(\"You have limited access\")\n",
    "        \n",
    "    \n"
   ]
  },
  {
   "cell_type": "code",
   "execution_count": null,
   "id": "61a89b30-93f3-4478-a203-48cbe815ad42",
   "metadata": {},
   "outputs": [],
   "source": [
    "User_status = True\n",
    "Admin_status = True\n",
    "Prem_Status = True\n",
    "check_user_access (User_status,Admin_status, Prem_Status)\n",
    "check_user_access(False, True, False)\n",
    "check_user_access(True, False, True)\n",
    "#check_user_access(100,200,300)\n"
   ]
  },
  {
   "cell_type": "code",
   "execution_count": null,
   "id": "245b7d7a-41b4-4093-afe8-189f11a9393a",
   "metadata": {},
   "outputs": [],
   "source": [
    "#Task 5: Ternary Operator\n",
    "#Write a function that returns \"Even\" or \"Odd\" based on whether a number is divisible by 2, using the ternary operator.\n",
    "\n",
    "def check_even_odd (number):\n",
    "     return \"Even\" if number % 2 == 0 else \"Odd\""
   ]
  },
  {
   "cell_type": "code",
   "execution_count": null,
   "id": "25cc00ca-a67a-4b9a-97d2-f531c1ec3034",
   "metadata": {},
   "outputs": [],
   "source": [
    "x=10\n",
    "y=15\n",
    "chk=check_even_odd(x)\n",
    "print(chk)\n",
    "\n",
    "check_even_odd(y)"
   ]
  },
  {
   "cell_type": "code",
   "execution_count": null,
   "id": "52444ad3-e665-4ddf-89c8-bf0cb88fc077",
   "metadata": {},
   "outputs": [],
   "source": [
    "#Task 6: Combining Conditions \n",
    "def check_leap_year(year):\n",
    "    #return \"LeapYear\" if year % 2 == 0 else \"NotLeapYear\"\n",
    "    return (year % 4 == 0 and year % 100 != 0) or (year % 400 == 0)"
   ]
  },
  {
   "cell_type": "code",
   "execution_count": null,
   "id": "d2dbf2b4-a81e-476a-bc05-917f6552a2fa",
   "metadata": {},
   "outputs": [],
   "source": [
    "#def check_leap_year_1(year):\n",
    "   # return (year % 4 == 0 and year % 100 != 0) or (year % 400 == 0)"
   ]
  },
  {
   "cell_type": "code",
   "execution_count": null,
   "id": "51d6d04d-3c57-4878-8df6-2d45db8295c5",
   "metadata": {},
   "outputs": [],
   "source": [
    "year_1 = 2021\n",
    "is_leap=check_leap_year(year_1)\n",
    "print(is_leap)"
   ]
  },
  {
   "cell_type": "code",
   "execution_count": null,
   "id": "ed459062-b3b0-4eb8-b297-96996406f227",
   "metadata": {},
   "outputs": [],
   "source": [
    "year_2=2020\n",
    "is_leap=check_leap_year(year_2)\n",
    "print(is_leap)"
   ]
  },
  {
   "cell_type": "code",
   "execution_count": null,
   "id": "5d23dfc7-53b6-4c0f-ab2d-77460c17eb1e",
   "metadata": {},
   "outputs": [],
   "source": [
    "year_3=2022\n",
    "is_leap=check_leap_year(year_3)\n",
    "print(is_leap)"
   ]
  },
  {
   "cell_type": "code",
   "execution_count": null,
   "id": "b410aa0b-26e3-4eb0-8b47-318e13cd82f2",
   "metadata": {},
   "outputs": [],
   "source": [
    "#Task 7 Function Refactor\n",
    "def classify_item(item_type, price, in_stock):\n",
    "    result = \"\"\n",
    "    if item_type == \"electronics\":\n",
    "        if price < 100:\n",
    "            if in_stock:\n",
    "                result = \"Affordable electronics in stock\"\n",
    "            else:\n",
    "                result = \"Affordable electronics out of stock\"\n",
    "        else:\n",
    "            if in_stock:\n",
    "                result = \"Premium electronics in stock\"\n",
    "            else:\n",
    "                result = \"Premium electronics out of stock\"\n",
    "    else:\n",
    "        if price < 100:\n",
    "            if in_stock:\n",
    "                result = \"Affordable non-electronics in stock\"\n",
    "            else:\n",
    "                result = \"Affordable non-electronics out of stock\"\n",
    "        else:\n",
    "            if in_stock:\n",
    "                result = \"Premium non-electronics in stock\"\n",
    "            else:\n",
    "                result = \"Premium non-electronics out of stock\"\n",
    "    return result"
   ]
  },
  {
   "cell_type": "code",
   "execution_count": null,
   "id": "4ee8be7a-c10a-4952-9ab6-2ca57b8e7c05",
   "metadata": {},
   "outputs": [],
   "source": [
    "classify_item('electronics',200,in_stock=True)\n"
   ]
  },
  {
   "cell_type": "code",
   "execution_count": null,
   "id": "8bdb472b-af29-486f-ba2d-1db650b7b475",
   "metadata": {},
   "outputs": [],
   "source": [
    "# Updated code as per refactor task 7\n",
    "\n",
    "def classify_item_updated(item_type, price, in_stock):\n",
    "    category = \"electronics\" if item_type == \"electronics\" else \"non-electronice\"\n",
    "    price_category=\"Affordable\" if price <100 else \"Premium\"\n",
    "    stock_status = \"in stock\" if in_stock else \"out of stock\"\n",
    "\n",
    "    return f\"{price_category} {category} {stock_status}\""
   ]
  },
  {
   "cell_type": "code",
   "execution_count": null,
   "id": "837bc3a9-1f70-4d28-b1b4-99ba10f7e159",
   "metadata": {},
   "outputs": [],
   "source": [
    "classify_item_updated('non', 150, False)"
   ]
  },
  {
   "cell_type": "code",
   "execution_count": null,
   "id": "a7426b9b-bf43-4eaa-ab47-43afd82f76fd",
   "metadata": {},
   "outputs": [],
   "source": [
    "classify_item_updated('electronics', 50, False)"
   ]
  },
  {
   "cell_type": "code",
   "execution_count": null,
   "id": "aeec3975-dad8-41b4-9967-6e94f1e378eb",
   "metadata": {},
   "outputs": [],
   "source": [
    "classify_item_updated('electronics', 50, True)"
   ]
  },
  {
   "cell_type": "code",
   "execution_count": null,
   "id": "a4f9afeb-a920-40b5-a3d2-49f213e13174",
   "metadata": {},
   "outputs": [],
   "source": []
  }
 ],
 "metadata": {
  "kernelspec": {
   "display_name": "Python 3 (ipykernel)",
   "language": "python",
   "name": "python3"
  },
  "language_info": {
   "codemirror_mode": {
    "name": "ipython",
    "version": 3
   },
   "file_extension": ".py",
   "mimetype": "text/x-python",
   "name": "python",
   "nbconvert_exporter": "python",
   "pygments_lexer": "ipython3",
   "version": "3.13.3"
  }
 },
 "nbformat": 4,
 "nbformat_minor": 5
}
