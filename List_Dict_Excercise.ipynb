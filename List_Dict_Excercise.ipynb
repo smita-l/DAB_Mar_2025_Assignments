{
 "cells": [
  {
   "cell_type": "code",
   "execution_count": null,
   "id": "66b7115d-3998-4ec7-9ff0-3704acc85e50",
   "metadata": {},
   "outputs": [],
   "source": [
    "#Create a shopping list with at least 5 items\n",
    "#Print out the third item in the list\n",
    "#Replace the first item with a different item\n",
    "#Add an item to the end of the list\n",
    "\n",
    "shopping_list = ['apple','pasta','banana','milk', 'rice']\n",
    "print(\"3rd item in list is :\",shopping_list[2])\n",
    "shopping_list[0]='Kiwi'\n",
    "print(\"Replaced 1st item : \",shopping_list)\n",
    "print(shopping_list)\n",
    "shopping_list.append('Cake')\n",
    "print(\"Added item to the end so now list is \" ,shopping_list)\n"
   ]
  },
  {
   "cell_type": "code",
   "execution_count": null,
   "id": "9feb162a-cd6e-4999-97d6-f8e5e0953a07",
   "metadata": {},
   "outputs": [],
   "source": [
    "#Create a dictionary of 3 grocery items with their prices\n",
    "#Print a message showing one item and its price\n",
    "#Add a new item to the dictionary with its price\n",
    "#Calculate and print the total cost of all items\n",
    "\n",
    "grocery_prices = {\n",
    "    \"Kiwi\" : 2.99, \n",
    "    \"Pasta\": 6.99, \n",
    "    \"banana\" : 1.99\n",
    "}\n",
    "print (\"Dictitionay Grocey prices contains : \",grocery_prices)\n",
    "print(\"The price of Pasta is - $\", grocery_prices['Pasta'])     \n",
    "print(\"The price of Kiwi is - $\",grocery_prices['Kiwi'])\n",
    "\n",
    "# add new item\n",
    "grocery_prices[\"Milk\"] = 4.79 \n",
    "print (\"New grocey prices are : \",grocery_prices)\n",
    "\n",
    "total_cost = sum (grocery_prices.values())\n",
    "print(\"Total price of this grocery_list is :$ \",total_cost)"
   ]
  },
  {
   "cell_type": "code",
   "execution_count": null,
   "id": "2a360cb9-1c56-43ca-98ee-50678beb4dea",
   "metadata": {},
   "outputs": [],
   "source": []
  },
  {
   "cell_type": "code",
   "execution_count": null,
   "id": "06a9d5e9-7d1e-4174-9be6-4b0e72dc1657",
   "metadata": {},
   "outputs": [],
   "source": []
  }
 ],
 "metadata": {
  "kernelspec": {
   "display_name": "Python 3 (ipykernel)",
   "language": "python",
   "name": "python3"
  },
  "language_info": {
   "codemirror_mode": {
    "name": "ipython",
    "version": 3
   },
   "file_extension": ".py",
   "mimetype": "text/x-python",
   "name": "python",
   "nbconvert_exporter": "python",
   "pygments_lexer": "ipython3",
   "version": "3.13.3"
  }
 },
 "nbformat": 4,
 "nbformat_minor": 5
}
