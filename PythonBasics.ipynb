{
 "cells": [
  {
   "cell_type": "code",
   "execution_count": 34,
   "id": "1438ed87-36f9-4d08-bef0-19b5ca8d92d1",
   "metadata": {},
   "outputs": [],
   "source": [
    "# Introduction to Python - Practice Exercise\n",
    "\n",
    "# Task 1: Variable Declaration and Data Types\n",
    "# Declare variables of different types and print their values and types\n",
    "\n",
    "# Task 2: String Manipulation\n",
    "# Create a string variable and use at least 3 different string methods on it\n",
    "\n",
    "# Task 3: Basic Operations\n",
    "# Perform arithmetic, comparison, and logical operations with variables\n",
    "\n",
    "# Task 4: Data Collections\n",
    "# Create examples of a list, dictionary, and tuple, then access specific elements\n",
    "\n",
    "# Task 5: Expression Combination\n",
    "# Write an expression that combines multiple operations and variables"
   ]
  },
  {
   "cell_type": "code",
   "execution_count": 35,
   "id": "eaf0f16f-735d-4145-93a3-bba1498b832c",
   "metadata": {},
   "outputs": [],
   "source": [
    "# Task 1: Variable Declaration and Data Types\n",
    "#int\n",
    "SL_int_Number = 10"
   ]
  },
  {
   "cell_type": "code",
   "execution_count": 36,
   "id": "65e8935c-61a8-4fa9-8747-c85f727ea8bf",
   "metadata": {},
   "outputs": [],
   "source": [
    "#print(SL_int_Number, SL_float_Number, SL_string_text)"
   ]
  },
  {
   "cell_type": "code",
   "execution_count": 37,
   "id": "1a26dadb-8405-4fa0-9a52-57123a6ecf39",
   "metadata": {},
   "outputs": [],
   "source": [
    "#float\n",
    "SL_float_Number = 12.9"
   ]
  },
  {
   "cell_type": "code",
   "execution_count": 38,
   "id": "583f4e1e-3e85-483e-afd3-73a17a4697b2",
   "metadata": {},
   "outputs": [],
   "source": [
    "#string\n",
    "SL_string_text = \"Hello\""
   ]
  },
  {
   "cell_type": "code",
   "execution_count": 39,
   "id": "ea52896e-d600-4771-919c-74ed9fac61b9",
   "metadata": {},
   "outputs": [
    {
     "name": "stdout",
     "output_type": "stream",
     "text": [
      "int valriable is :  10\n",
      "float variable is :  12.9\n",
      "string variable is :  Hello\n"
     ]
    }
   ],
   "source": [
    "print(\"int valriable is : \",SL_int_Number)\n",
    "print(\"float variable is : \",SL_float_Number)\n",
    "print(\"string variable is : \", SL_string_text)"
   ]
  },
  {
   "cell_type": "code",
   "execution_count": 40,
   "id": "65618569-ceac-437e-9d42-832c98e3c8fc",
   "metadata": {},
   "outputs": [
    {
     "name": "stdout",
     "output_type": "stream",
     "text": [
      "<class 'int'>\n",
      "<class 'float'>\n",
      "<class 'str'>\n"
     ]
    }
   ],
   "source": [
    "# print valriable values\n",
    "print(type(SL_int_Number))\n",
    "print(type(SL_float_Number))\n",
    "print(type(SL_string_text))"
   ]
  },
  {
   "cell_type": "code",
   "execution_count": 41,
   "id": "417868c6-39a4-4a81-8924-94a78cf2f66f",
   "metadata": {},
   "outputs": [],
   "source": [
    "#Task 2 String Manipulation\n",
    "# Create a string variable and use at least 3 different string methods on it\n",
    "\n",
    "SL_string1=\"Hello World\"\n",
    "SL_string2=\"new jersey\""
   ]
  },
  {
   "cell_type": "code",
   "execution_count": 42,
   "id": "e0082761-8b36-4641-a001-ac32ee1fe1c8",
   "metadata": {},
   "outputs": [
    {
     "name": "stdout",
     "output_type": "stream",
     "text": [
      "HELLO WORLD\n"
     ]
    }
   ],
   "source": [
    "#uppercase\n",
    "print(SL_string1.upper())"
   ]
  },
  {
   "cell_type": "code",
   "execution_count": 43,
   "id": "590b8466-f15a-46e6-9a28-86f30d151097",
   "metadata": {},
   "outputs": [
    {
     "name": "stdout",
     "output_type": "stream",
     "text": [
      "New jersey\n"
     ]
    }
   ],
   "source": [
    "#capitalize\n",
    "print(SL_string2.capitalize())"
   ]
  },
  {
   "cell_type": "code",
   "execution_count": 44,
   "id": "7713db32-473b-43f5-b38c-43ab4e153111",
   "metadata": {},
   "outputs": [
    {
     "name": "stdout",
     "output_type": "stream",
     "text": [
      "3\n"
     ]
    }
   ],
   "source": [
    "#count\n",
    "print(SL_string1.count('l'))"
   ]
  },
  {
   "cell_type": "code",
   "execution_count": 45,
   "id": "d5cf5d12-dc02-4db6-bdea-e355e56e672d",
   "metadata": {},
   "outputs": [
    {
     "name": "stdout",
     "output_type": "stream",
     "text": [
      "1\n"
     ]
    }
   ],
   "source": [
    "#find\n",
    "print(SL_string2.find('e'))"
   ]
  },
  {
   "cell_type": "code",
   "execution_count": 46,
   "id": "e34095e6-c2c4-4ed9-8f59-c9536d5a18fa",
   "metadata": {},
   "outputs": [],
   "source": [
    "# Task 3: Basic Operations\n",
    "# Perform arithmetic, comparison, and logical operations with variables"
   ]
  },
  {
   "cell_type": "code",
   "execution_count": 47,
   "id": "57f4460d-ca2d-4e83-ad08-aec3d099d90c",
   "metadata": {},
   "outputs": [
    {
     "name": "stdout",
     "output_type": "stream",
     "text": [
      "35.5\n",
      "4.5\n",
      "30.0\n",
      "15.5\n",
      "1000000000000000\n",
      "5\n"
     ]
    }
   ],
   "source": [
    "# Arithmatic\n",
    "a=10\n",
    "b=15\n",
    "c=10.5\n",
    "print(a+b+c)\n",
    "print(b-c)\n",
    "print((a*b)/5)\n",
    "print((a/2)+c)\n",
    "print(a ** b)\n",
    "print(b % a)"
   ]
  },
  {
   "cell_type": "code",
   "execution_count": 48,
   "id": "985ecd54-4e78-4593-a7f7-74d024d31924",
   "metadata": {},
   "outputs": [
    {
     "name": "stdout",
     "output_type": "stream",
     "text": [
      "False\n"
     ]
    }
   ],
   "source": [
    "# Comparison\n",
    "print(a>b)"
   ]
  },
  {
   "cell_type": "code",
   "execution_count": 49,
   "id": "df0b27f7-ff98-404a-bf15-5f2940b5ce8a",
   "metadata": {},
   "outputs": [
    {
     "name": "stdout",
     "output_type": "stream",
     "text": [
      "False\n",
      "True\n",
      "True\n",
      "True\n"
     ]
    }
   ],
   "source": [
    "# Logical\n",
    "print(a>20)\n",
    "print(a < b)\n",
    "print(a<20 and b<20)\n",
    "print(not(a==b))"
   ]
  },
  {
   "cell_type": "code",
   "execution_count": 52,
   "id": "7620f602-ecda-42b1-b770-08c42d42b37b",
   "metadata": {},
   "outputs": [
    {
     "name": "stdout",
     "output_type": "stream",
     "text": [
      "40\n",
      "New York City\n",
      "111\n"
     ]
    }
   ],
   "source": [
    "# Task 4: Data Collections\n",
    "# Create examples of a list, dictionary, and tuple, then access specific elements\n",
    "\n",
    "my_list = [10, 20,30,40,50,60]\n",
    "my_dict_data = {\"name\": \"Alice\", \"age\":25, \"city\":\"New York City\"}\n",
    "my_tuple = (111 , 222, 333, 444, 555)                \n",
    "\n",
    "print(my_list[3]) #index starts at Zero\n",
    "print(my_dict_data[\"city\"])\n",
    "print(my_tuple[0])\n"
   ]
  },
  {
   "cell_type": "code",
   "execution_count": 57,
   "id": "dca89f3e-43fe-40ab-9635-820c5090094b",
   "metadata": {},
   "outputs": [
    {
     "name": "stdout",
     "output_type": "stream",
     "text": [
      "a = 10 b = 15 length of city = 13\n",
      "result of expression is :  43.0\n"
     ]
    }
   ],
   "source": [
    "# Task 5: Expression Combination\n",
    "# Write an expression that combines multiple operations and variables\n",
    "print(\"a =\", a ,\"b =\",b , \"length of city =\",(len((my_dict_data[\"city\"]))))\n",
    "result = (a * b)/(b - a) + len((my_dict_data[\"city\"]))\n",
    "print(\"result of expression is : \", result)\n",
    "\n"
   ]
  },
  {
   "cell_type": "code",
   "execution_count": null,
   "id": "9779ddfb-ad36-4475-b8a0-765e4cf34bc1",
   "metadata": {},
   "outputs": [],
   "source": []
  }
 ],
 "metadata": {
  "kernelspec": {
   "display_name": "Python 3 (ipykernel)",
   "language": "python",
   "name": "python3"
  },
  "language_info": {
   "codemirror_mode": {
    "name": "ipython",
    "version": 3
   },
   "file_extension": ".py",
   "mimetype": "text/x-python",
   "name": "python",
   "nbconvert_exporter": "python",
   "pygments_lexer": "ipython3",
   "version": "3.13.2"
  }
 },
 "nbformat": 4,
 "nbformat_minor": 5
}
